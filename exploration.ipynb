{
 "metadata": {
  "language_info": {
   "codemirror_mode": {
    "name": "ipython",
    "version": 3
   },
   "file_extension": ".py",
   "mimetype": "text/x-python",
   "name": "python",
   "nbconvert_exporter": "python",
   "pygments_lexer": "ipython3",
   "version": "3.7.3-final"
  },
  "orig_nbformat": 2,
  "kernelspec": {
   "name": "python3",
   "display_name": "Python 3",
   "language": "python"
  }
 },
 "nbformat": 4,
 "nbformat_minor": 2,
 "cells": [
  {
   "cell_type": "code",
   "execution_count": 318,
   "metadata": {},
   "outputs": [],
   "source": [
    "import configparser\n",
    "from datetime import datetime\n",
    "import os\n",
    "from pyspark.sql import SparkSession\n",
    "from pyspark.sql.functions import udf, col\n",
    "from pyspark.sql.functions import year, month, dayofmonth, hour, weekofyear, date_format, dayofweek\n",
    "from pyspark.sql.types import StructType as R, StructField as Fld, DoubleType as Dbl, StringType as Str, IntegerType as Int, DateType as Date, TimestampType as Ts"
   ]
  },
  {
   "cell_type": "code",
   "execution_count": 319,
   "metadata": {},
   "outputs": [],
   "source": [
    "config = configparser.ConfigParser()\n",
    "config.read('dl.cfg')\n",
    "\n",
    "os.environ['AWS_ACCESS_KEY_ID']=config.get('DEFAULT','AWS_ACCESS_KEY_ID')\n",
    "os.environ['AWS_SECRET_ACCESS_KEY']=config.get('DEFAULT','AWS_SECRET_ACCESS_KEY')"
   ]
  },
  {
   "cell_type": "code",
   "execution_count": 320,
   "metadata": {},
   "outputs": [],
   "source": [
    "spark = SparkSession \\\n",
    "    .builder \\\n",
    "    .config(\"spark.jars.packages\", \"org.apache.hadoop:hadoop-aws:2.7.0\") \\\n",
    "    .getOrCreate()"
   ]
  },
  {
   "cell_type": "code",
   "execution_count": 321,
   "metadata": {},
   "outputs": [],
   "source": [
    "# get filepath to song data file\n",
    "song_data = \"./data/song_data/*/*/*/*.json\""
   ]
  },
  {
   "cell_type": "code",
   "execution_count": 322,
   "metadata": {},
   "outputs": [],
   "source": [
    "stagingSongsSchema = R([\n",
    "    Fld(\"song_id\", Str()),\n",
    "    Fld(\"num_songs\", Int()),\n",
    "    Fld(\"title\", Str()),\n",
    "    Fld(\"artist_name\", Str()),\n",
    "    Fld(\"artist_latitude\", Dbl()),\n",
    "    Fld(\"year\", Int()),\n",
    "    Fld(\"duration\", Dbl()),\n",
    "    Fld(\"artist_id\", Str()),\n",
    "    Fld(\"artist_longitude\", Dbl()),\n",
    "    Fld(\"artist_location\", Str())\n",
    "])"
   ]
  },
  {
   "cell_type": "code",
   "execution_count": 323,
   "metadata": {},
   "outputs": [],
   "source": [
    "# read song data file\n",
    "df_song = spark.read.json(song_data, schema=stagingSongsSchema)"
   ]
  },
  {
   "cell_type": "code",
   "execution_count": 324,
   "metadata": {},
   "outputs": [
    {
     "output_type": "execute_result",
     "data": {
      "text/plain": [
       "71"
      ]
     },
     "metadata": {},
     "execution_count": 324
    }
   ],
   "source": [
    "df_song.count()"
   ]
  },
  {
   "cell_type": "code",
   "execution_count": 325,
   "metadata": {},
   "outputs": [
    {
     "output_type": "stream",
     "name": "stdout",
     "text": [
      "root\n |-- song_id: string (nullable = true)\n |-- num_songs: integer (nullable = true)\n |-- title: string (nullable = true)\n |-- artist_name: string (nullable = true)\n |-- artist_latitude: double (nullable = true)\n |-- year: integer (nullable = true)\n |-- duration: double (nullable = true)\n |-- artist_id: string (nullable = true)\n |-- artist_longitude: double (nullable = true)\n |-- artist_location: string (nullable = true)\n\n"
     ]
    }
   ],
   "source": [
    "df_song.printSchema()"
   ]
  },
  {
   "cell_type": "code",
   "execution_count": 326,
   "metadata": {},
   "outputs": [
    {
     "output_type": "stream",
     "name": "stdout",
     "text": [
      "+------------------+---------+--------------------+--------------------+---------------+----+---------+------------------+----------------+-----------------+\n|           song_id|num_songs|               title|         artist_name|artist_latitude|year| duration|         artist_id|artist_longitude|  artist_location|\n+------------------+---------+--------------------+--------------------+---------------+----+---------+------------------+----------------+-----------------+\n|SOBAYLL12A8C138AF9|        1|Sono andati? Fing...|Montserrat Caball...|           null|   0|511.16363|ARDR4AC1187FB371A1|            null|                 |\n|SOOLYAZ12A6701F4A6|        1|Laws Patrolling (...|Mike Jones (Featu...|           null|   0|173.66159|AREBBGV1187FB523D2|            null|      Houston, TX|\n|SOBBUGU12A8C13E95D|        1|Setting Fire to S...|The Dillinger Esc...|       40.82624|2004|207.77751|ARMAC4T1187FB3FA4C|       -74.47995|Morris Plains, NJ|\n|SOAOIBZ12AB01815BE|        1|I Hold Your Hand ...|            Tiny Tim|       40.71455|2000| 43.36281|ARPBNLO1187FB3D52F|       -74.00712|     New York, NY|\n|SONYPOM12A8C13B2D7|        1|I Think My Wife I...|          Tim Wilson|       32.67828|2005|186.48771|ARDNS031187B9924F0|       -83.22295|          Georgia|\n+------------------+---------+--------------------+--------------------+---------------+----+---------+------------------+----------------+-----------------+\nonly showing top 5 rows\n\n"
     ]
    }
   ],
   "source": [
    "df_song.show(5)"
   ]
  },
  {
   "cell_type": "code",
   "execution_count": 327,
   "metadata": {},
   "outputs": [],
   "source": [
    "df_song.createOrReplaceTempView(\"staging_songs\")"
   ]
  },
  {
   "cell_type": "code",
   "execution_count": 328,
   "metadata": {},
   "outputs": [],
   "source": [
    "songs_table = spark.sql(\n",
    "    \"\"\"\n",
    "    SELECT \n",
    "        song_id,\n",
    "        title,\n",
    "        artist_id,\n",
    "        year,\n",
    "        duration\n",
    "    FROM staging_songs\n",
    "    \"\"\"\n",
    ")"
   ]
  },
  {
   "cell_type": "code",
   "execution_count": 329,
   "metadata": {},
   "outputs": [
    {
     "output_type": "stream",
     "name": "stdout",
     "text": [
      "+------------------+--------------------+------------------+----+---------+\n|           song_id|               title|         artist_id|year| duration|\n+------------------+--------------------+------------------+----+---------+\n|SOBAYLL12A8C138AF9|Sono andati? Fing...|ARDR4AC1187FB371A1|   0|511.16363|\n|SOOLYAZ12A6701F4A6|Laws Patrolling (...|AREBBGV1187FB523D2|   0|173.66159|\n|SOBBUGU12A8C13E95D|Setting Fire to S...|ARMAC4T1187FB3FA4C|2004|207.77751|\n|SOAOIBZ12AB01815BE|I Hold Your Hand ...|ARPBNLO1187FB3D52F|2000| 43.36281|\n|SONYPOM12A8C13B2D7|I Think My Wife I...|ARDNS031187B9924F0|2005|186.48771|\n+------------------+--------------------+------------------+----+---------+\nonly showing top 5 rows\n\n"
     ]
    }
   ],
   "source": [
    "songs_table.show(5)"
   ]
  },
  {
   "cell_type": "code",
   "execution_count": 330,
   "metadata": {},
   "outputs": [],
   "source": [
    "songs_table.write.mode(\"ignore\").partitionBy(\"year\", \"artist_id\").parquet(\"./output/songs\")"
   ]
  },
  {
   "cell_type": "code",
   "execution_count": 331,
   "metadata": {},
   "outputs": [],
   "source": [
    "artists_table = spark.sql(\n",
    "    \"\"\"\n",
    "    SELECT\n",
    "        artist_id,\n",
    "        artist_name AS name,\n",
    "        artist_location AS location,\n",
    "        artist_latitude AS latitude,\n",
    "        artist_longitude AS longitude\n",
    "    FROM staging_songs\n",
    "    \"\"\"\n",
    ")"
   ]
  },
  {
   "cell_type": "code",
   "execution_count": 332,
   "metadata": {},
   "outputs": [
    {
     "output_type": "stream",
     "name": "stdout",
     "text": [
      "+------------------+--------------------+-----------------+--------+---------+\n|         artist_id|                name|         location|latitude|longitude|\n+------------------+--------------------+-----------------+--------+---------+\n|ARDR4AC1187FB371A1|Montserrat Caball...|                 |    null|     null|\n|AREBBGV1187FB523D2|Mike Jones (Featu...|      Houston, TX|    null|     null|\n|ARMAC4T1187FB3FA4C|The Dillinger Esc...|Morris Plains, NJ|40.82624|-74.47995|\n+------------------+--------------------+-----------------+--------+---------+\nonly showing top 3 rows\n\n"
     ]
    }
   ],
   "source": [
    "artists_table.show(3)"
   ]
  },
  {
   "cell_type": "code",
   "execution_count": 333,
   "metadata": {},
   "outputs": [],
   "source": [
    "artists_table.write.mode(\"ignore\").parquet(\"./output/artists\")"
   ]
  },
  {
   "cell_type": "code",
   "execution_count": 334,
   "metadata": {},
   "outputs": [],
   "source": [
    "# get filepath to log data file\n",
    "log_data = \"./data/log-data/*.json\""
   ]
  },
  {
   "cell_type": "code",
   "execution_count": 335,
   "metadata": {},
   "outputs": [],
   "source": [
    "stagingEventsSchema = R([\n",
    "    Fld(\"artist\", Str()),\n",
    "    Fld(\"auth\", Str()),\n",
    "    Fld(\"firstName\", Str()), \n",
    "    Fld(\"gender\", Str()), \n",
    "    Fld(\"itemInSession\", Int()), \n",
    "    Fld(\"lastName\", Str()), \n",
    "    Fld(\"length\", Dbl()), \n",
    "    Fld(\"level\", Str()), \n",
    "    Fld(\"location\", Str()), \n",
    "    Fld(\"method\", Str()), \n",
    "    Fld(\"page\", Str()), \n",
    "    Fld(\"registration\", Str()), \n",
    "    Fld(\"sessionId\", Str()), \n",
    "    Fld(\"song\", Str()), \n",
    "    Fld(\"status\", Str()), \n",
    "    Fld(\"ts\", Str()), \n",
    "    Fld(\"userAgent\", Str()), \n",
    "    Fld(\"userId\", Str()) \n",
    "])"
   ]
  },
  {
   "cell_type": "code",
   "execution_count": 336,
   "metadata": {},
   "outputs": [],
   "source": [
    "df_log = spark.read.json(log_data, schema=stagingEventsSchema)"
   ]
  },
  {
   "cell_type": "code",
   "execution_count": 337,
   "metadata": {},
   "outputs": [
    {
     "output_type": "stream",
     "name": "stdout",
     "text": [
      "root\n |-- artist: string (nullable = true)\n |-- auth: string (nullable = true)\n |-- firstName: string (nullable = true)\n |-- gender: string (nullable = true)\n |-- itemInSession: integer (nullable = true)\n |-- lastName: string (nullable = true)\n |-- length: double (nullable = true)\n |-- level: string (nullable = true)\n |-- location: string (nullable = true)\n |-- method: string (nullable = true)\n |-- page: string (nullable = true)\n |-- registration: string (nullable = true)\n |-- sessionId: string (nullable = true)\n |-- song: string (nullable = true)\n |-- status: string (nullable = true)\n |-- ts: string (nullable = true)\n |-- userAgent: string (nullable = true)\n |-- userId: string (nullable = true)\n\n"
     ]
    }
   ],
   "source": [
    "df_log.printSchema()"
   ]
  },
  {
   "cell_type": "code",
   "execution_count": 338,
   "metadata": {},
   "outputs": [
    {
     "output_type": "execute_result",
     "data": {
      "text/plain": [
       "8056"
      ]
     },
     "metadata": {},
     "execution_count": 338
    }
   ],
   "source": [
    "df_log.count()"
   ]
  },
  {
   "cell_type": "code",
   "execution_count": 339,
   "metadata": {},
   "outputs": [
    {
     "output_type": "stream",
     "name": "stdout",
     "text": [
      "+-----------+---------+---------+------+-------------+--------+---------+-----+--------------------+------+--------+-----------------+---------+---------------+------+-------------+--------------------+------+\n|     artist|     auth|firstName|gender|itemInSession|lastName|   length|level|            location|method|    page|     registration|sessionId|           song|status|           ts|           userAgent|userId|\n+-----------+---------+---------+------+-------------+--------+---------+-----+--------------------+------+--------+-----------------+---------+---------------+------+-------------+--------------------+------+\n|   Harmonia|Logged In|     Ryan|     M|            0|   Smith|655.77751| free|San Jose-Sunnyval...|   PUT|NextSong|1.541016707796E12|      583|  Sehr kosmisch|   200|1542241826796|\"Mozilla/5.0 (X11...|    26|\n|The Prodigy|Logged In|     Ryan|     M|            1|   Smith|260.07465| free|San Jose-Sunnyval...|   PUT|NextSong|1.541016707796E12|      583|The Big Gundown|   200|1542242481796|\"Mozilla/5.0 (X11...|    26|\n|      Train|Logged In|     Ryan|     M|            2|   Smith|205.45261| free|San Jose-Sunnyval...|   PUT|NextSong|1.541016707796E12|      583|       Marry Me|   200|1542242741796|\"Mozilla/5.0 (X11...|    26|\n|       null|Logged In|    Wyatt|     M|            0|   Scott|     null| free|Eureka-Arcata-For...|   GET|    Home|1.540872073796E12|      563|           null|   200|1542247071796|Mozilla/5.0 (Wind...|     9|\n|       null|Logged In|   Austin|     M|            0| Rosales|     null| free|New York-Newark-J...|   GET|    Home|1.541059521796E12|      521|           null|   200|1542252577796|Mozilla/5.0 (Wind...|    12|\n+-----------+---------+---------+------+-------------+--------+---------+-----+--------------------+------+--------+-----------------+---------+---------------+------+-------------+--------------------+------+\nonly showing top 5 rows\n\n"
     ]
    }
   ],
   "source": [
    "df_log.show(5)"
   ]
  },
  {
   "cell_type": "code",
   "execution_count": 340,
   "metadata": {},
   "outputs": [],
   "source": [
    "df_log = df_log.filter(df_log.page == 'NextSong')"
   ]
  },
  {
   "cell_type": "code",
   "execution_count": 341,
   "metadata": {},
   "outputs": [
    {
     "output_type": "execute_result",
     "data": {
      "text/plain": [
       "6820"
      ]
     },
     "metadata": {},
     "execution_count": 341
    }
   ],
   "source": [
    "df_log.count()"
   ]
  },
  {
   "cell_type": "code",
   "execution_count": 342,
   "metadata": {},
   "outputs": [
    {
     "output_type": "stream",
     "name": "stdout",
     "text": [
      "+--------------------+---------+---------+------+-------------+--------+---------+-----+--------------------+------+--------+-----------------+---------+--------------------+------+-------------+--------------------+------+\n|              artist|     auth|firstName|gender|itemInSession|lastName|   length|level|            location|method|    page|     registration|sessionId|                song|status|           ts|           userAgent|userId|\n+--------------------+---------+---------+------+-------------+--------+---------+-----+--------------------+------+--------+-----------------+---------+--------------------+------+-------------+--------------------+------+\n|            Harmonia|Logged In|     Ryan|     M|            0|   Smith|655.77751| free|San Jose-Sunnyval...|   PUT|NextSong|1.541016707796E12|      583|       Sehr kosmisch|   200|1542241826796|\"Mozilla/5.0 (X11...|    26|\n|         The Prodigy|Logged In|     Ryan|     M|            1|   Smith|260.07465| free|San Jose-Sunnyval...|   PUT|NextSong|1.541016707796E12|      583|     The Big Gundown|   200|1542242481796|\"Mozilla/5.0 (X11...|    26|\n|               Train|Logged In|     Ryan|     M|            2|   Smith|205.45261| free|San Jose-Sunnyval...|   PUT|NextSong|1.541016707796E12|      583|            Marry Me|   200|1542242741796|\"Mozilla/5.0 (X11...|    26|\n|         Sony Wonder|Logged In|   Samuel|     M|            0|Gonzalez|218.06975| free|Houston-The Woodl...|   PUT|NextSong|1.540492941796E12|      597|           Blackbird|   200|1542253449796|\"Mozilla/5.0 (Mac...|    61|\n|           Van Halen|Logged In|    Tegan|     F|            2|  Levine|289.38404| paid|Portland-South Po...|   PUT|NextSong|1.540794356796E12|      602|Best Of Both Worl...|   200|1542260935796|\"Mozilla/5.0 (Mac...|    80|\n|           Magic Sam|Logged In|    Tegan|     F|            3|  Levine|132.04853| paid|Portland-South Po...|   PUT|NextSong|1.540794356796E12|      602|Call Me If You Ne...|   200|1542261224796|\"Mozilla/5.0 (Mac...|    80|\n|Edward Sharpe & T...|Logged In|    Tegan|     F|            4|  Levine|306.31138| paid|Portland-South Po...|   PUT|NextSong|1.540794356796E12|      602|                Home|   200|1542261356796|\"Mozilla/5.0 (Mac...|    80|\n|Usher featuring w...|Logged In|    Tegan|     F|            5|  Levine|395.72853| paid|Portland-South Po...|   PUT|NextSong|1.540794356796E12|      602|                 OMG|   200|1542261662796|\"Mozilla/5.0 (Mac...|    80|\n|         Helen Reddy|Logged In|    Tegan|     F|            7|  Levine|176.50893| paid|Portland-South Po...|   PUT|NextSong|1.540794356796E12|      602| Candle On The Water|   200|1542262057796|\"Mozilla/5.0 (Mac...|    80|\n|        Taylor Swift|Logged In|    Tegan|     F|            8|  Levine|201.06404| paid|Portland-South Po...|   PUT|NextSong|1.540794356796E12|      602|            Our Song|   200|1542262233796|\"Mozilla/5.0 (Mac...|    80|\n+--------------------+---------+---------+------+-------------+--------+---------+-----+--------------------+------+--------+-----------------+---------+--------------------+------+-------------+--------------------+------+\nonly showing top 10 rows\n\n"
     ]
    }
   ],
   "source": [
    "df_log.show(10)"
   ]
  },
  {
   "cell_type": "code",
   "execution_count": 343,
   "metadata": {},
   "outputs": [],
   "source": [
    "df_log.createOrReplaceTempView(\"staging_events\")"
   ]
  },
  {
   "cell_type": "code",
   "execution_count": 344,
   "metadata": {},
   "outputs": [],
   "source": [
    "users_table = spark.sql(\n",
    "    \"\"\"\n",
    "    SELECT\n",
    "        userId AS user_id,\n",
    "        firstName AS first_name,\n",
    "        lastName AS last_name,\n",
    "        gender,\n",
    "        level\n",
    "    FROM staging_events\n",
    "    \"\"\"\n",
    ")"
   ]
  },
  {
   "cell_type": "code",
   "execution_count": 345,
   "metadata": {},
   "outputs": [
    {
     "output_type": "stream",
     "name": "stdout",
     "text": [
      "+-------+----------+---------+------+-----+\n|user_id|first_name|last_name|gender|level|\n+-------+----------+---------+------+-----+\n|     26|      Ryan|    Smith|     M| free|\n|     26|      Ryan|    Smith|     M| free|\n|     26|      Ryan|    Smith|     M| free|\n|     61|    Samuel| Gonzalez|     M| free|\n|     80|     Tegan|   Levine|     F| paid|\n+-------+----------+---------+------+-----+\nonly showing top 5 rows\n\n"
     ]
    }
   ],
   "source": [
    "users_table.show(5)"
   ]
  },
  {
   "cell_type": "code",
   "execution_count": 346,
   "metadata": {},
   "outputs": [],
   "source": [
    "users_table.write.mode(\"ignore\").parquet(\"./output/users\")"
   ]
  },
  {
   "cell_type": "code",
   "execution_count": 347,
   "metadata": {},
   "outputs": [],
   "source": [
    "df_log1 = df_log.withColumn(\"new_ts\", df_log['ts'].cast('date'))"
   ]
  },
  {
   "cell_type": "code",
   "execution_count": 354,
   "metadata": {},
   "outputs": [
    {
     "output_type": "stream",
     "name": "stdout",
     "text": [
      "+-----------+---------+---------+------+-------------+--------+---------+-----+--------------------+------+--------+-----------------+---------+--------------------+------+-------------+--------------------+------+------+\n|     artist|     auth|firstName|gender|itemInSession|lastName|   length|level|            location|method|    page|     registration|sessionId|                song|status|           ts|           userAgent|userId|new_ts|\n+-----------+---------+---------+------+-------------+--------+---------+-----+--------------------+------+--------+-----------------+---------+--------------------+------+-------------+--------------------+------+------+\n|   Harmonia|Logged In|     Ryan|     M|            0|   Smith|655.77751| free|San Jose-Sunnyval...|   PUT|NextSong|1.541016707796E12|      583|       Sehr kosmisch|   200|1542241826796|\"Mozilla/5.0 (X11...|    26|  null|\n|The Prodigy|Logged In|     Ryan|     M|            1|   Smith|260.07465| free|San Jose-Sunnyval...|   PUT|NextSong|1.541016707796E12|      583|     The Big Gundown|   200|1542242481796|\"Mozilla/5.0 (X11...|    26|  null|\n|      Train|Logged In|     Ryan|     M|            2|   Smith|205.45261| free|San Jose-Sunnyval...|   PUT|NextSong|1.541016707796E12|      583|            Marry Me|   200|1542242741796|\"Mozilla/5.0 (X11...|    26|  null|\n|Sony Wonder|Logged In|   Samuel|     M|            0|Gonzalez|218.06975| free|Houston-The Woodl...|   PUT|NextSong|1.540492941796E12|      597|           Blackbird|   200|1542253449796|\"Mozilla/5.0 (Mac...|    61|  null|\n|  Van Halen|Logged In|    Tegan|     F|            2|  Levine|289.38404| paid|Portland-South Po...|   PUT|NextSong|1.540794356796E12|      602|Best Of Both Worl...|   200|1542260935796|\"Mozilla/5.0 (Mac...|    80|  null|\n+-----------+---------+---------+------+-------------+--------+---------+-----+--------------------+------+--------+-----------------+---------+--------------------+------+-------------+--------------------+------+------+\nonly showing top 5 rows\n\n"
     ]
    }
   ],
   "source": [
    "df_log1.show(5)"
   ]
  },
  {
   "cell_type": "code",
   "execution_count": 357,
   "metadata": {},
   "outputs": [],
   "source": [
    "start_time = spark.sql(\n",
    "    \"\"\"\n",
    "    SELECT \n",
    "        DISTINCT from_unixtime(cast(ts as bigint)/1000,'yyyy-MM-dd HH:mm:ss') AS start_time\n",
    "    FROM staging_events;\n",
    "    \"\"\"\n",
    ")"
   ]
  },
  {
   "cell_type": "code",
   "execution_count": 350,
   "metadata": {},
   "outputs": [],
   "source": [
    "time_table = start_time.select(\n",
    "    \"start_time\",\n",
    "    hour(\"start_time\").alias('hour'),\n",
    "    dayofmonth(\"start_time\").alias('day'),\n",
    "    weekofyear(\"start_time\").alias('week'),\n",
    "    month(\"start_time\").alias('month'),\n",
    "    year(\"start_time\").alias('year'),\n",
    "    dayofweek(\"start_time\").alias('weekday')\n",
    ")"
   ]
  },
  {
   "cell_type": "code",
   "execution_count": 351,
   "metadata": {},
   "outputs": [],
   "source": [
    "time_table.write.mode(\"ignore\").partitionBy('year', 'month').parquet('./output/time')"
   ]
  },
  {
   "cell_type": "code",
   "execution_count": 403,
   "metadata": {},
   "outputs": [],
   "source": [
    "songplays_table = spark.sql(\n",
    "    \"\"\"\n",
    "    WITH CTE AS (\n",
    "        SELECT\n",
    "            DISTINCT from_unixtime(cast(se.ts as bigint)/1000,'yyyy-MM-dd HH:mm:ss') AS start_time,\n",
    "            se.userId, se.level, ss.song_id, ss.artist_id, se.sessionId AS session_id, se.location, se.userAgent AS user_agent\n",
    "        FROM \n",
    "            staging_events se\n",
    "        INNER JOIN \n",
    "            staging_songs ss\n",
    "        ON \n",
    "            se.song = ss.title \n",
    "        AND \n",
    "            se.artist = ss.artist_name\n",
    "    ) \n",
    "    SELECT \n",
    "        ROW_NUMBER() OVER(ORDER BY start_time) songplay_id,\n",
    "        *, \n",
    "        YEAR(start_time) year, \n",
    "        MONTH(start_time) month \n",
    "    FROM \n",
    "        CTE;\n",
    "    \"\"\"\n",
    ")"
   ]
  },
  {
   "cell_type": "code",
   "execution_count": 404,
   "metadata": {},
   "outputs": [
    {
     "output_type": "stream",
     "name": "stdout",
     "text": [
      "+-----------+-------------------+------+-----+------------------+------------------+----------+--------------------+--------------------+----+-----+\n|songplay_id|         start_time|userId|level|           song_id|         artist_id|session_id|            location|          user_agent|year|month|\n+-----------+-------------------+------+-----+------------------+------------------+----------+--------------------+--------------------+----+-----+\n|          1|2018-11-21 16:56:47|    15| paid|SOZCTXZ12AB0182364|AR5KOSW1187FB35FF4|       818|Chicago-Napervill...|\"Mozilla/5.0 (X11...|2018|   11|\n+-----------+-------------------+------+-----+------------------+------------------+----------+--------------------+--------------------+----+-----+\n\n"
     ]
    }
   ],
   "source": [
    "songplays_table.show(5)"
   ]
  },
  {
   "cell_type": "code",
   "execution_count": null,
   "metadata": {},
   "outputs": [],
   "source": []
  },
  {
   "cell_type": "code",
   "execution_count": 405,
   "metadata": {},
   "outputs": [],
   "source": [
    "songplays_table.write.mode(\"ignore\").partitionBy('year', 'month').parquet('./output/songplays')"
   ]
  },
  {
   "cell_type": "code",
   "execution_count": null,
   "metadata": {},
   "outputs": [],
   "source": []
  }
 ]
}